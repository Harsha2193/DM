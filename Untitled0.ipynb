{
  "nbformat": 4,
  "nbformat_minor": 0,
  "metadata": {
    "colab": {
      "provenance": [],
      "mount_file_id": "1a9ELo8Dvz_9tUQyaNU4nNgkSeUJ_XGz_",
      "authorship_tag": "ABX9TyNAApLLlSgmNKlFLSQyu4sV",
      "include_colab_link": true
    },
    "kernelspec": {
      "name": "python3",
      "display_name": "Python 3"
    },
    "language_info": {
      "name": "python"
    }
  },
  "cells": [
    {
      "cell_type": "markdown",
      "metadata": {
        "id": "view-in-github",
        "colab_type": "text"
      },
      "source": [
        "<a href=\"https://colab.research.google.com/github/Harsha2193/DM/blob/main/Untitled0.ipynb\" target=\"_parent\"><img src=\"https://colab.research.google.com/assets/colab-badge.svg\" alt=\"Open In Colab\"/></a>"
      ]
    },
    {
      "cell_type": "code",
      "source": [
        "import tensorflow as tf\n",
        "from tensorflow.keras.models import Sequential\n",
        "from tensorflow.keras.layers import Conv2D, MaxPooling2D, Flatten, Dense, Dropout\n",
        "from tensorflow.keras.preprocessing.image import ImageDataGenerator\n"
      ],
      "metadata": {
        "id": "ISAqcr7w2LhF"
      },
      "execution_count": 2,
      "outputs": []
    },
    {
      "cell_type": "code",
      "source": [
        "# Define directories\n",
        "train_dir = '/content/drive/MyDrive/archive (3)/train'\n",
        "test_dir = '/content/drive/MyDrive/archive (3)/test'\n",
        "\n",
        "# Data augmentation and normalization for training data\n",
        "train_datagen = ImageDataGenerator(rescale=1./255, rotation_range=40, width_shift_range=0.2,\n",
        "                                   height_shift_range=0.2, shear_range=0.2, zoom_range=0.2,\n",
        "                                   horizontal_flip=True, fill_mode='nearest')\n",
        "\n",
        "train_generator = train_datagen.flow_from_directory(train_dir, target_size=(150, 150),\n",
        "                                                    batch_size=32, class_mode='categorical')\n",
        "\n",
        "# Normalization for test data\n",
        "test_datagen = ImageDataGenerator(rescale=1./255)\n",
        "\n",
        "test_generator = test_datagen.flow_from_directory(test_dir, target_size=(150, 150),\n",
        "                                                  batch_size=32, class_mode='categorical')\n",
        "\n",
        "# Define class labels\n",
        "class_labels = ['baseball','basketball', 'cricket ball', 'football','golf ball', 'soccer ball', 'tennis ball', 'volley ball']\n",
        "class_indices = {i: label for i, label in enumerate(class_labels)}\n",
        "print(\"Class indices:\", class_indices)\n",
        "\n"
      ],
      "metadata": {
        "colab": {
          "base_uri": "https://localhost:8080/"
        },
        "id": "FyldGsVi2Lkd",
        "outputId": "0177f738-5c58-440c-efe7-35d2c9e2fb75"
      },
      "execution_count": 3,
      "outputs": [
        {
          "output_type": "stream",
          "name": "stdout",
          "text": [
            "Found 1050 images belonging to 8 classes.\n",
            "Found 40 images belonging to 8 classes.\n",
            "Class indices: {0: 'baseball', 1: 'basketball', 2: 'cricket ball', 3: 'football', 4: 'golf ball', 5: 'soccer ball', 6: 'tennis ball', 7: 'volley ball'}\n"
          ]
        }
      ]
    },
    {
      "cell_type": "code",
      "source": [
        "model = Sequential([\n",
        "    Conv2D(32, (3, 3), activation='relu', input_shape=(150, 150, 3)),\n",
        "    MaxPooling2D(2, 2),\n",
        "    Conv2D(64, (3, 3), activation='relu'),\n",
        "    MaxPooling2D(2, 2),\n",
        "    Conv2D(128, (3, 3), activation='relu'),\n",
        "    MaxPooling2D(2, 2),\n",
        "    Conv2D(128, (3, 3), activation='relu'),\n",
        "    MaxPooling2D(2, 2),\n",
        "    Flatten(),\n",
        "    Dense(512, activation='relu'),\n",
        "    Dropout(0.5),\n",
        "    Dense(len(class_labels), activation='softmax')\n",
        "])\n"
      ],
      "metadata": {
        "id": "E4_7bVi43mU0"
      },
      "execution_count": 4,
      "outputs": []
    },
    {
      "cell_type": "code",
      "source": [
        "model = Sequential([\n",
        "    Conv2D(32, (3, 3), activation='relu', input_shape=(150, 150, 3)),\n",
        "    MaxPooling2D(2, 2),\n",
        "    Conv2D(64, (3, 3), activation='relu'),\n",
        "    MaxPooling2D(2, 2),\n",
        "    Conv2D(128, (3, 3), activation='relu'),\n",
        "    MaxPooling2D(2, 2),\n",
        "    Conv2D(128, (3, 3), activation='relu'),\n",
        "    MaxPooling2D(2, 2),\n",
        "    Flatten(),\n",
        "    Dense(512, activation='relu'),\n",
        "    Dropout(0.5),\n",
        "    Dense(len(class_labels), activation='softmax')\n",
        "])\n"
      ],
      "metadata": {
        "id": "ehxGlqdE3mRb"
      },
      "execution_count": 5,
      "outputs": []
    },
    {
      "cell_type": "code",
      "source": [
        "model.compile(loss='categorical_crossentropy', optimizer='adam', metrics=['accuracy'])\n"
      ],
      "metadata": {
        "id": "WHtkxtpu3mN7"
      },
      "execution_count": 6,
      "outputs": []
    },
    {
      "cell_type": "code",
      "source": [
        "history = model.fit(train_generator, epochs=50)\n"
      ],
      "metadata": {
        "id": "sH_KpCWx3mLa",
        "colab": {
          "base_uri": "https://localhost:8080/"
        },
        "outputId": "2324d37d-6c59-4cc7-f8f6-89b3c844737f"
      },
      "execution_count": 7,
      "outputs": [
        {
          "output_type": "stream",
          "name": "stdout",
          "text": [
            "Epoch 1/50\n",
            "33/33 [==============================] - 313s 9s/step - loss: 1.9321 - accuracy: 0.2695\n",
            "Epoch 2/50\n",
            "33/33 [==============================] - 57s 2s/step - loss: 1.5776 - accuracy: 0.4181\n",
            "Epoch 3/50\n",
            "33/33 [==============================] - 56s 2s/step - loss: 1.3014 - accuracy: 0.5581\n",
            "Epoch 4/50\n",
            "33/33 [==============================] - 63s 2s/step - loss: 1.1378 - accuracy: 0.6267\n",
            "Epoch 5/50\n",
            "33/33 [==============================] - 58s 2s/step - loss: 1.0413 - accuracy: 0.6581\n",
            "Epoch 6/50\n",
            "33/33 [==============================] - 56s 2s/step - loss: 0.9399 - accuracy: 0.7019\n",
            "Epoch 7/50\n",
            "33/33 [==============================] - 57s 2s/step - loss: 0.8818 - accuracy: 0.7219\n",
            "Epoch 8/50\n",
            "33/33 [==============================] - 57s 2s/step - loss: 0.8543 - accuracy: 0.7362\n",
            "Epoch 9/50\n",
            "33/33 [==============================] - 58s 2s/step - loss: 0.8734 - accuracy: 0.7229\n",
            "Epoch 10/50\n",
            "33/33 [==============================] - 57s 2s/step - loss: 0.7691 - accuracy: 0.7600\n",
            "Epoch 11/50\n",
            "33/33 [==============================] - 58s 2s/step - loss: 0.7342 - accuracy: 0.7438\n",
            "Epoch 12/50\n",
            "33/33 [==============================] - 57s 2s/step - loss: 0.6991 - accuracy: 0.7762\n",
            "Epoch 13/50\n",
            "33/33 [==============================] - 62s 2s/step - loss: 0.6497 - accuracy: 0.7971\n",
            "Epoch 14/50\n",
            "33/33 [==============================] - 56s 2s/step - loss: 0.6575 - accuracy: 0.7771\n",
            "Epoch 15/50\n",
            "33/33 [==============================] - 57s 2s/step - loss: 0.5841 - accuracy: 0.8095\n",
            "Epoch 16/50\n",
            "33/33 [==============================] - 57s 2s/step - loss: 0.6199 - accuracy: 0.8067\n",
            "Epoch 17/50\n",
            "33/33 [==============================] - 57s 2s/step - loss: 0.5961 - accuracy: 0.8048\n",
            "Epoch 18/50\n",
            "33/33 [==============================] - 58s 2s/step - loss: 0.5521 - accuracy: 0.8162\n",
            "Epoch 19/50\n",
            "33/33 [==============================] - 54s 2s/step - loss: 0.5131 - accuracy: 0.8295\n",
            "Epoch 20/50\n",
            "33/33 [==============================] - 57s 2s/step - loss: 0.4756 - accuracy: 0.8429\n",
            "Epoch 21/50\n",
            "33/33 [==============================] - 57s 2s/step - loss: 0.4613 - accuracy: 0.8495\n",
            "Epoch 22/50\n",
            "33/33 [==============================] - 57s 2s/step - loss: 0.5018 - accuracy: 0.8438\n",
            "Epoch 23/50\n",
            "33/33 [==============================] - 56s 2s/step - loss: 0.4718 - accuracy: 0.8486\n",
            "Epoch 24/50\n",
            "33/33 [==============================] - 55s 2s/step - loss: 0.4533 - accuracy: 0.8438\n",
            "Epoch 25/50\n",
            "33/33 [==============================] - 56s 2s/step - loss: 0.4592 - accuracy: 0.8448\n",
            "Epoch 26/50\n",
            "33/33 [==============================] - 57s 2s/step - loss: 0.4002 - accuracy: 0.8610\n",
            "Epoch 27/50\n",
            "33/33 [==============================] - 56s 2s/step - loss: 0.4703 - accuracy: 0.8362\n",
            "Epoch 28/50\n",
            "33/33 [==============================] - 56s 2s/step - loss: 0.4532 - accuracy: 0.8571\n",
            "Epoch 29/50\n",
            "33/33 [==============================] - 56s 2s/step - loss: 0.4201 - accuracy: 0.8705\n",
            "Epoch 30/50\n",
            "33/33 [==============================] - 54s 2s/step - loss: 0.3783 - accuracy: 0.8714\n",
            "Epoch 31/50\n",
            "33/33 [==============================] - 56s 2s/step - loss: 0.4220 - accuracy: 0.8457\n",
            "Epoch 32/50\n",
            "33/33 [==============================] - 56s 2s/step - loss: 0.3765 - accuracy: 0.8781\n",
            "Epoch 33/50\n",
            "33/33 [==============================] - 57s 2s/step - loss: 0.3674 - accuracy: 0.8771\n",
            "Epoch 34/50\n",
            "33/33 [==============================] - 57s 2s/step - loss: 0.4097 - accuracy: 0.8686\n",
            "Epoch 35/50\n",
            "33/33 [==============================] - 56s 2s/step - loss: 0.3470 - accuracy: 0.8905\n",
            "Epoch 36/50\n",
            "33/33 [==============================] - 55s 2s/step - loss: 0.3540 - accuracy: 0.8838\n",
            "Epoch 37/50\n",
            "33/33 [==============================] - 57s 2s/step - loss: 0.3603 - accuracy: 0.8762\n",
            "Epoch 38/50\n",
            "33/33 [==============================] - 57s 2s/step - loss: 0.3307 - accuracy: 0.8933\n",
            "Epoch 39/50\n",
            "33/33 [==============================] - 56s 2s/step - loss: 0.3190 - accuracy: 0.8914\n",
            "Epoch 40/50\n",
            "33/33 [==============================] - 56s 2s/step - loss: 0.3184 - accuracy: 0.8981\n",
            "Epoch 41/50\n",
            "33/33 [==============================] - 56s 2s/step - loss: 0.2917 - accuracy: 0.9095\n",
            "Epoch 42/50\n",
            "33/33 [==============================] - 55s 2s/step - loss: 0.2457 - accuracy: 0.9086\n",
            "Epoch 43/50\n",
            "33/33 [==============================] - 56s 2s/step - loss: 0.2887 - accuracy: 0.9019\n",
            "Epoch 44/50\n",
            "33/33 [==============================] - 57s 2s/step - loss: 0.2846 - accuracy: 0.9048\n",
            "Epoch 45/50\n",
            "33/33 [==============================] - 57s 2s/step - loss: 0.2942 - accuracy: 0.9010\n",
            "Epoch 46/50\n",
            "33/33 [==============================] - 57s 2s/step - loss: 0.2547 - accuracy: 0.9095\n",
            "Epoch 47/50\n",
            "33/33 [==============================] - 57s 2s/step - loss: 0.2489 - accuracy: 0.9105\n",
            "Epoch 48/50\n",
            "33/33 [==============================] - 55s 2s/step - loss: 0.2181 - accuracy: 0.9324\n",
            "Epoch 49/50\n",
            "33/33 [==============================] - 57s 2s/step - loss: 0.3764 - accuracy: 0.8743\n",
            "Epoch 50/50\n",
            "33/33 [==============================] - 56s 2s/step - loss: 0.2910 - accuracy: 0.9114\n"
          ]
        }
      ]
    },
    {
      "cell_type": "code",
      "source": [
        "test_loss, test_acc = model.evaluate(test_generator)\n",
        "print(f'Test accuracy: {test_acc}')\n"
      ],
      "metadata": {
        "id": "-jgOFyD53mI0",
        "colab": {
          "base_uri": "https://localhost:8080/"
        },
        "outputId": "8978ff07-ad80-42c5-a2fc-91173063ccdb"
      },
      "execution_count": 8,
      "outputs": [
        {
          "output_type": "stream",
          "name": "stdout",
          "text": [
            "2/2 [==============================] - 3s 2s/step - loss: 0.4756 - accuracy: 0.8250\n",
            "Test accuracy: 0.824999988079071\n"
          ]
        }
      ]
    },
    {
      "cell_type": "code",
      "source": [
        "import numpy as np\n",
        "from tensorflow.keras.preprocessing import image\n",
        "\n",
        "def predict_image(image_path):\n",
        "    img = image.load_img(image_path, target_size=(150, 150))\n",
        "    img_array = image.img_to_array(img)\n",
        "    img_array = np.expand_dims(img_array, axis=0)\n",
        "    img_array /= 255.0  # Normalize the image\n",
        "\n",
        "    prediction = model.predict(img_array)\n",
        "    predicted_class_index = np.argmax(prediction[0])\n",
        "    predicted_class_label = class_indices[predicted_class_index]\n",
        "\n",
        "    return predicted_class_label\n",
        "\n",
        "# Example usage:\n",
        "\n"
      ],
      "metadata": {
        "id": "EIlSKmdJ3mE9"
      },
      "execution_count": 9,
      "outputs": []
    },
    {
      "cell_type": "code",
      "source": [
        "example_image_path = '/content/drive/MyDrive/cricket.jpg'\n",
        "predicted_label = predict_image(example_image_path)\n",
        "print(f'Predicted label: {predicted_label}')"
      ],
      "metadata": {
        "id": "kTjFzd0z3lv5",
        "colab": {
          "base_uri": "https://localhost:8080/"
        },
        "outputId": "b3330fc1-d148-4b15-b6f7-8faaa5e40533"
      },
      "execution_count": 11,
      "outputs": [
        {
          "output_type": "stream",
          "name": "stdout",
          "text": [
            "1/1 [==============================] - 0s 58ms/step\n",
            "Predicted label: cricket ball\n"
          ]
        }
      ]
    }
  ]
}